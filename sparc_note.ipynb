{
 "metadata": {
  "language_info": {
   "codemirror_mode": {
    "name": "ipython",
    "version": 3
   },
   "file_extension": ".py",
   "mimetype": "text/x-python",
   "name": "python",
   "nbconvert_exporter": "python",
   "pygments_lexer": "ipython3",
   "version": "3.9.5"
  },
  "orig_nbformat": 2,
  "kernelspec": {
   "name": "python395jvsc74a57bd0954de8cd1626496dfa79b933dacbf45f666cfdd72c330597e6d36b027ad2d99a",
   "display_name": "Python 3.9.5 64-bit ('sparc': conda)"
  }
 },
 "nbformat": 4,
 "nbformat_minor": 2,
 "cells": [
  {
   "cell_type": "code",
   "execution_count": 20,
   "metadata": {},
   "outputs": [],
   "source": [
    "import os\n",
    "import requests\n",
    "from cts_calcs import calculator_sparc\n",
    "\n",
    "\n"
   ]
  },
  {
   "cell_type": "code",
   "execution_count": 21,
   "metadata": {},
   "outputs": [
    {
     "output_type": "stream",
     "name": "stderr",
     "text": [
      "WARNING:root:Error filtering SMILES: 'CTS_EFS_SERVER'\n",
      "{'chemical': 'CCC', 'calc': 'sparc', 'props': ['water_sol', 'vapor_press', 'henrys_law_con', 'mol_diss', 'boiling_point'], 'ph': 7.0, 'service': None, 'prop': None, 'sessionid': None, 'method': None, 'node': None, 'run_type': None, 'workflow': None, 'mass': None, 'data': 'Cannot filter SMILES'}\n"
     ]
    }
   ],
   "source": [
    "calc = 'sparc'\n",
    "smiles='CCC'\n",
    "melting_point=0.0\n",
    "pressure=760.0\n",
    "temperature=25.0\n",
    "ph = 7.0\n",
    "\n",
    "props = [\"water_sol\", \"vapor_press\", \"henrys_law_con\", \"mol_diss\", \"boiling_point\"]\n",
    "params = {\"chemical\": smiles, \"calc\": calc, \"props\": props, \"ph\": ph}\n",
    "\n",
    "sparc_url = 'https://n2626ugath802.aa.ad.epa.gov/sparc-integration/rest/calc/multiProperty'\n",
    "\n",
    "sparc = calculator_sparc.SparcCalc(smiles)\n",
    "data = sparc.data_request_handler(params)\n",
    "print(data)\n",
    "\n"
   ]
  }
 ]
}